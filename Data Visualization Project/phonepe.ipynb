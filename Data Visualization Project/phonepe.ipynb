{
 "cells": [
  {
   "cell_type": "code",
   "execution_count": 2,
   "metadata": {},
   "outputs": [],
   "source": [
    "import os  # To access the system files\n",
    "import json  # To read JSON format file\n",
    "import pandas as pd  # To create a data frames"
   ]
  },
  {
   "cell_type": "code",
   "execution_count": 5,
   "metadata": {},
   "outputs": [],
   "source": [
    "# Transactions Data Extraction.\n",
    "Txn_stt_fldr = r\"C:\\Users\\Hp\\Documents\\project\\Projects\\Phonepe project\\pulse\\data\\aggregated\\transaction\\country\\india\\state/\"\n",
    "Path_Txn_states = Txn_stt_fldr.replace(\"\\\\\", \"/\")  # Replace the module/slash.\n",
    "list_Txn_states = os.listdir(Path_Txn_states)  # Gets the states names inside the given path.\n",
    "\n",
    "Txn_columns = {\n",
    "    \"States\": [],\n",
    "    \"Years\": [],\n",
    "    \"Quarter\": [],\n",
    "    \"Transaction_type\": [],\n",
    "    \"Transaction_count\": [],\n",
    "    \"Transaction_amount\": []}\n",
    "\n",
    "# Converts amount format as Indian Rupees\n",
    "def currency(amount_in_scientific_notation):\n",
    "    \n",
    "    # Convert scientific notation to a regular number\n",
    "    amount_in_rupees = float(\"{:.2f}\".format(amount_in_scientific_notation))\n",
    "    \n",
    "    formatted_amount = f\"₹{amount_in_rupees:,.2f}\"# Format as Indian Rupees\n",
    "\n",
    "    return formatted_amount\n",
    "\n",
    "\n",
    "\n",
    "# This loop is to get the data inside the \"states\" folders.\n",
    "for states in list_Txn_states:\n",
    "    path_states = Path_Txn_states + states + \"/\"  # merging each \"states\"name with path.\n",
    "    list_state_years = os.listdir(path_states)  # Gets the datas inside the given path.\n",
    "\n",
    "\n",
    "    # This loops is to get the data inside the \"year\" folders.\n",
    "    for years in list_state_years:\n",
    "        path_years = path_states + years + \"/\"  # merging each \"years\" with path.\n",
    "        list_years_files = os.listdir(path_years)  # Gets the datas inside the given path.\n",
    "\n",
    "\n",
    "        for files in list_years_files:\n",
    "            path_files = path_years + files  # merging each files name with path.\n",
    "            acc_files = json.load(open(path_files, \"r\"))  # opening files.\n",
    "\n",
    "\n",
    "            for catch in acc_files[\"data\"][\"transactionData\"]:\n",
    "                Txn_type = catch[\"name\"]  # To get transaction type.\n",
    "                Txn_count = catch[\"paymentInstruments\"][0][\"count\"]  # To get the total transaction counts.\n",
    "                Txn_amount = currency(catch[\"paymentInstruments\"][0][\"amount\"])  # To get the total transaction amounts.\n",
    "\n",
    "\n",
    "                # Appending all the datas to the Txn_columns.\n",
    "                Txn_columns[\"States\"].append(states)\n",
    "                Txn_columns[\"Years\"].append(years)\n",
    "                Txn_columns[\"Quarter\"].append(int(files.strip(\".json\")))\n",
    "                Txn_columns[\"Transaction_type\"].append(Txn_type)\n",
    "                Txn_columns[\"Transaction_count\"].append(Txn_count)\n",
    "                Txn_columns[\"Transaction_amount\"].append(Txn_amount)\n",
    "                \n",
    "\n",
    "\n",
    "\n",
    "\n",
    "                \n",
    "All_TXN = pd.DataFrame(Txn_columns)\n",
    "\n",
    "\n"
   ]
  },
  {
   "cell_type": "code",
   "execution_count": null,
   "metadata": {},
   "outputs": [],
   "source": [
    "# Users Data Extraction.\n",
    "Users_columns = {\"States\":[], \"Years\":[], \"Quarter\":[], \"Brands\":[],\"Transaction_count\":[], \"Percentage\":[]}\n",
    "Users_folder=r\"C:\\Users\\Hp\\Documents\\project\\Projects\\Phonepe project\\pulse\\data\\aggregated\\user\\country\\india/state/\"\n",
    "Path_users = Txn_stt_fldr.replace(\"\\\\\", \"/\")  # Replace the module/slash.\n",
    "list_Users = os.listdir(Path_users)  # Gets the states names inside the given path.\n"
   ]
  },
  {
   "cell_type": "code",
   "execution_count": 4,
   "metadata": {},
   "outputs": [],
   "source": [
    "columns2 = {\"States\":[], \"Years\":[], \"Quarter\":[], \"Brands\":[],\"Transaction_count\":[], \"Percentage\":[]}\n",
    "\n",
    "for state in lst_Users:\n",
    "    cur_states = Path_users+state+\"/\"\n",
    "    agg_year_list = os.listdir(cur_states)\n",
    "    \n",
    "    for year in agg_year_list:\n",
    "        cur_years = cur_states+year+\"/\"\n",
    "        agg_file_list = os.listdir(cur_years)\n",
    "        \n",
    "        for file in agg_file_list:\n",
    "            cur_files = cur_years+file\n",
    "            data = open(cur_files,\"r\")\n",
    "            B = json.load(data)\n",
    "\n",
    "            try:\n",
    "\n",
    "                for i in B[\"data\"][\"usersByDevice\"]:\n",
    "                    brand = i[\"brand\"]\n",
    "                    count = i[\"count\"]\n",
    "                    percentage = i[\"percentage\"]\n",
    "                    columns2[\"Brands\"].append(brand)\n",
    "                    columns2[\"Transaction_count\"].append(count)\n",
    "                    columns2[\"Percentage\"].append(percentage)\n",
    "                    columns2[\"States\"].append(state)\n",
    "                    columns2[\"Years\"].append(year)\n",
    "                    columns2[\"Quarter\"].append(int(file.strip(\".json\")))\n",
    "            \n",
    "            except:\n",
    "                pass\n",
    "\n",
    "aggre_user = pd.DataFrame(columns2)\n",
    "\n",
    "aggre_user[\"States\"] = aggre_user[\"States\"].str.replace(\"andaman-&-nicobar-islands\",\"Andaman & Nicobar\")\n",
    "aggre_user[\"States\"] = aggre_user[\"States\"].str.replace(\"-\",\" \")\n",
    "aggre_user[\"States\"] = aggre_user[\"States\"].str.title()\n",
    "aggre_user['States'] = aggre_user['States'].str.replace(\"Dadra & Nagar Haveli & Daman & Diu\", \"Dadra and Nagar Haveli and Daman and Diu\")"
   ]
  },
  {
   "cell_type": "code",
   "execution_count": null,
   "metadata": {},
   "outputs": [],
   "source": [
    "\n",
    "#map_transaction\n",
    "path3 = \"C:/Users/vignesh/Desktop/New folder/phone pe/pulse/data/map/transaction/hover/country/india/state/\"\n",
    "map_tran_list = os.listdir(path3)\n",
    "\n",
    "columns3 = {\"States\":[], \"Years\":[], \"Quarter\":[],\"District\":[], \"Transaction_count\":[],\"Transaction_amount\":[]}\n",
    "\n",
    "for state in map_tran_list:\n",
    "    cur_states = path3+state+\"/\"\n",
    "    map_year_list = os.listdir(cur_states)\n",
    "    \n",
    "    for year in map_year_list:\n",
    "        cur_years = cur_states+year+\"/\"\n",
    "        map_file_list = os.listdir(cur_years)\n",
    "        \n",
    "        for file in map_file_list:\n",
    "            cur_files = cur_years+file\n",
    "            data = open(cur_files,\"r\")\n",
    "            C = json.load(data)\n",
    "\n",
    "            for i in C['data'][\"hoverDataList\"]:\n",
    "                name = i[\"name\"]\n",
    "                count = i[\"metric\"][0][\"count\"]\n",
    "                amount = i[\"metric\"][0][\"amount\"]\n",
    "                columns3[\"District\"].append(name)\n",
    "                columns3[\"Transaction_count\"].append(count)\n",
    "                columns3[\"Transaction_amount\"].append(amount)\n",
    "                columns3[\"States\"].append(state)\n",
    "                columns3[\"Years\"].append(year)\n",
    "                columns3[\"Quarter\"].append(int(file.strip(\".json\")))\n",
    "\n",
    "map_transaction = pd.DataFrame(columns3)\n",
    "\n",
    "map_transaction[\"States\"] = map_transaction[\"States\"].str.replace(\"andaman-&-nicobar-islands\",\"Andaman & Nicobar\")\n",
    "map_transaction[\"States\"] = map_transaction[\"States\"].str.replace(\"-\",\" \")\n",
    "map_transaction[\"States\"] = map_transaction[\"States\"].str.title()\n",
    "map_transaction['States'] = map_transaction['States'].str.replace(\"Dadra & Nagar Haveli & Daman & Diu\", \"Dadra and Nagar Haveli and Daman and Diu\")\n"
   ]
  },
  {
   "cell_type": "code",
   "execution_count": null,
   "metadata": {},
   "outputs": [],
   "source": [
    "\n",
    "#top_transaction\n",
    "path5 = \"C:/Users/vignesh/Desktop/New folder/phone pe/pulse/data/top/transaction/country/india/state/\"\n",
    "top_tran_list = os.listdir(path5)\n",
    "\n",
    "columns5 = {\"States\":[], \"Years\":[], \"Quarter\":[], \"Pincodes\":[], \"Transaction_count\":[], \"Transaction_amount\":[]}\n",
    "\n",
    "for state in top_tran_list:\n",
    "    cur_states = path5+state+\"/\"\n",
    "    top_year_list = os.listdir(cur_states)\n",
    "    \n",
    "    for year in top_year_list:\n",
    "        cur_years = cur_states+year+\"/\"\n",
    "        top_file_list = os.listdir(cur_years)\n",
    "        \n",
    "        for file in top_file_list:\n",
    "            cur_files = cur_years+file\n",
    "            data = open(cur_files,\"r\")\n",
    "            E = json.load(data)\n",
    "\n",
    "            for i in E[\"data\"][\"pincodes\"]:\n",
    "                entityName = i[\"entityName\"]\n",
    "                count = i[\"metric\"][\"count\"]\n",
    "                amount = i[\"metric\"][\"amount\"]\n",
    "                columns5[\"Pincodes\"].append(entityName)\n",
    "                columns5[\"Transaction_count\"].append(count)\n",
    "                columns5[\"Transaction_amount\"].append(amount)\n",
    "                columns5[\"States\"].append(state)\n",
    "                columns5[\"Years\"].append(year)\n",
    "                columns5[\"Quarter\"].append(int(file.strip(\".json\")))\n",
    "\n",
    "top_transaction = pd.DataFrame(columns5)\n",
    "\n",
    "top_transaction[\"States\"] = top_transaction[\"States\"].str.replace(\"andaman-&-nicobar-islands\",\"Andaman & Nicobar\")\n",
    "top_transaction[\"States\"] = top_transaction[\"States\"].str.replace(\"-\",\" \")\n",
    "top_transaction[\"States\"] = top_transaction[\"States\"].str.title()\n",
    "top_transaction['States'] = top_transaction['States'].str.replace(\"Dadra & Nagar Haveli & Daman & Diu\", \"Dadra and Nagar Haveli and Daman and Diu\")\n",
    "\n"
   ]
  },
  {
   "cell_type": "code",
   "execution_count": null,
   "metadata": {},
   "outputs": [],
   "source": [
    "\n",
    "#top_user\n",
    "path6 = \"C:/Users/vignesh/Desktop/New folder/phone pe/pulse/data/top/user/country/india/state/\"\n",
    "top_user_list = os.listdir(path6)\n",
    "\n",
    "columns6 = {\"States\":[], \"Years\":[], \"Quarter\":[], \"Pincodes\":[], \"RegisteredUser\":[]}\n",
    "\n",
    "for state in top_user_list:\n",
    "    cur_states = path6+state+\"/\"\n",
    "    top_year_list = os.listdir(cur_states)\n",
    "\n",
    "    for year in top_year_list:\n",
    "        cur_years = cur_states+year+\"/\"\n",
    "        top_file_list = os.listdir(cur_years)\n",
    "\n",
    "        for file in top_file_list:\n",
    "            cur_files = cur_years+file\n",
    "            data = open(cur_files,\"r\")\n",
    "            F = json.load(data)\n",
    "\n",
    "            for i in F[\"data\"][\"pincodes\"]:\n",
    "                name = i[\"name\"]\n",
    "                registeredusers = i[\"registeredUsers\"]\n",
    "                columns6[\"Pincodes\"].append(name)\n",
    "                columns6[\"RegisteredUser\"].append(registereduser)\n",
    "                columns6[\"States\"].append(state)\n",
    "                columns6[\"Years\"].append(year)\n",
    "                columns6[\"Quarter\"].append(int(file.strip(\".json\")))\n",
    "\n",
    "top_user = pd.DataFrame(columns6)\n",
    "\n",
    "top_user[\"States\"] = top_user[\"States\"].str.replace(\"andaman-&-nicobar-islands\",\"Andaman & Nicobar\")\n",
    "top_user[\"States\"] = top_user[\"States\"].str.replace(\"-\",\" \")\n",
    "top_user[\"States\"] = top_user[\"States\"].str.title()\n",
    "top_user['States'] = top_user['States'].str.replace(\"Dadra & Nagar Haveli & Daman & Diu\", \"Dadra and Nagar Haveli and Daman and Diu\")\n"
   ]
  },
  {
   "cell_type": "code",
   "execution_count": null,
   "metadata": {},
   "outputs": [],
   "source": [
    "#Table Creation\n",
    "#pgsql connection\n",
    "mydb = psycopg2.connect(host = \"localhost\",\n",
    "                        user = \"postgres\",\n",
    "                        password = \"vigneshd\",\n",
    "                        database = \"phonepe_data\",\n",
    "                        port = \"5432\"\n",
    "                        )\n",
    "cursor = mydb.cursor()\n",
    "\n",
    "#aggregated transaction table\n",
    "create_query1 = '''CREATE TABLE if not exists aggregated_transaction (States varchar(50),\n",
    "                                                                      Years int,\n",
    "                                                                      Quarter int,\n",
    "                                                                      Transaction_type varchar(50),\n",
    "                                                                      Transaction_count bigint,\n",
    "                                                                      Transaction_amount bigint\n",
    "                                                                      )'''\n",
    "cursor.execute(create_query1)\n",
    "mydb.commit()\n",
    "\n",
    "for index,row in aggre_transaction.iterrows():\n",
    "    insert_query1 = '''INSERT INTO aggregated_transaction (States, Years, Quarter, Transaction_type, Transaction_count, Transaction_amount)\n",
    "                                                        values(%s,%s,%s,%s,%s,%s)'''\n",
    "    values = (row[\"States\"],\n",
    "              row[\"Years\"],\n",
    "              row[\"Quarter\"],\n",
    "              row[\"Transaction_type\"],\n",
    "              row[\"Transaction_count\"],\n",
    "              row[\"Transaction_amount\"]\n",
    "              )\n",
    "    cursor.execute(insert_query1,values)\n",
    "    mydb.commit()\n",
    "\n",
    "#aggregated user table\n",
    "create_query2 = '''CREATE TABLE if not exists aggregated_user (States varchar(50),\n",
    "                                                                Years int,\n",
    "                                                                Quarter int,\n",
    "                                                                Brands varchar(50),\n",
    "                                                                Transaction_count bigint,\n",
    "                                                                Percentage float)'''\n",
    "cursor.execute(create_query2)\n",
    "mydb.commit()\n",
    "\n",
    "for index,row in aggre_user.iterrows():\n",
    "    insert_query2 = '''INSERT INTO aggregated_user (States, Years, Quarter, Brands, Transaction_count, Percentage)\n",
    "                                                    values(%s,%s,%s,%s,%s,%s)'''\n",
    "    values = (row[\"States\"],\n",
    "              row[\"Years\"],\n",
    "              row[\"Quarter\"],\n",
    "              row[\"Brands\"],\n",
    "              row[\"Transaction_count\"],\n",
    "              row[\"Percentage\"])\n",
    "    cursor.execute(insert_query2,values)\n",
    "    mydb.commit()\n",
    "\n",
    "#map_transaction_table\n",
    "create_query3 = '''CREATE TABLE if not exists map_transaction (States varchar(50),\n",
    "                                                                Years int,\n",
    "                                                                Quarter int,\n",
    "                                                                District varchar(50),\n",
    "                                                                Transaction_count bigint,\n",
    "                                                                Transaction_amount float)'''\n",
    "cursor.execute(create_query3)\n",
    "mydb.commit()\n",
    "\n",
    "for index,row in map_transaction.iterrows():\n",
    "            insert_query3 = '''\n",
    "                INSERT INTO map_Transaction (States, Years, Quarter, District, Transaction_count, Transaction_amount)\n",
    "                VALUES (%s, %s, %s, %s, %s, %s)\n",
    "\n",
    "            '''\n",
    "            values = (\n",
    "                row['States'],\n",
    "                row['Years'],\n",
    "                row['Quarter'],\n",
    "                row['District'],\n",
    "                row['Transaction_count'],\n",
    "                row['Transaction_amount']\n",
    "            )\n",
    "            cursor.execute(insert_query3,values)\n",
    "            mydb.commit() \n",
    "\n",
    "\n",
    "#map_user_table\n",
    "create_query4 = '''CREATE TABLE if not exists map_user (States varchar(50),\n",
    "                                                        Years int,\n",
    "                                                        Quarter int,\n",
    "                                                        Districts varchar(50),\n",
    "                                                        RegisteredUser bigint,\n",
    "                                                        AppOpens bigint)'''\n",
    "cursor.execute(create_query4)\n",
    "mydb.commit()\n",
    "\n",
    "for index,row in map_user.iterrows():\n",
    "    insert_query4 = '''INSERT INTO map_user (States, Years, Quarter, Districts, RegisteredUser, AppOpens)\n",
    "                        values(%s,%s,%s,%s,%s,%s)'''\n",
    "    values = (row[\"States\"],\n",
    "              row[\"Years\"],\n",
    "              row[\"Quarter\"],\n",
    "              row[\"Districts\"],\n",
    "              row[\"RegisteredUser\"],\n",
    "              row[\"AppOpens\"])\n",
    "    cursor.execute(insert_query4,values)\n",
    "    mydb.commit()\n",
    "\n",
    "#top_transaction_table\n",
    "create_query5 = '''CREATE TABLE if not exists top_transaction (States varchar(50),\n",
    "                                                                Years int,\n",
    "                                                                Quarter int,\n",
    "                                                                pincodes int,\n",
    "                                                                Transaction_count bigint,\n",
    "                                                                Transaction_amount bigint)'''\n",
    "cursor.execute(create_query5)\n",
    "mydb.commit()\n",
    "\n",
    "for index,row in top_transaction.iterrows():\n",
    "    insert_query5 = '''INSERT INTO top_transaction (States, Years, Quarter, Pincodes, Transaction_count, Transaction_amount)\n",
    "                                                    values(%s,%s,%s,%s,%s,%s)'''\n",
    "    values = (row[\"States\"],\n",
    "              row[\"Years\"],\n",
    "              row[\"Quarter\"],\n",
    "              row[\"Pincodes\"],\n",
    "              row[\"Transaction_count\"],\n",
    "              row[\"Transaction_amount\"])\n",
    "    cursor.execute(insert_query5,values)\n",
    "    mydb.commit()\n",
    "\n",
    "#top_user_table\n",
    "create_query6 = '''CREATE TABLE if not exists top_user (States varchar(50),\n",
    "                                                        Years int,\n",
    "                                                        Quarter int,\n",
    "                                                        Pincodes int,\n",
    "                                                        RegisteredUser bigint\n",
    "                                                        )'''\n",
    "cursor.execute(create_query6)\n",
    "mydb.commit()\n",
    "\n",
    "for index,row in top_user.iterrows():\n",
    "    insert_query6 = '''INSERT INTO top_user (States, Years, Quarter, Pincodes, RegisteredUser)\n",
    "                                            values(%s,%s,%s,%s,%s)'''\n",
    "    values = (row[\"States\"],\n",
    "              row[\"Years\"],\n",
    "              row[\"Quarter\"],\n",
    "              row[\"Pincodes\"],\n",
    "              row[\"RegisteredUser\"])\n",
    "    cursor.execute(insert_query6,values)\n",
    "    mydb.commit()"
   ]
  },
  {
   "cell_type": "code",
   "execution_count": null,
   "metadata": {},
   "outputs": [],
   "source": []
  },
  {
   "cell_type": "code",
   "execution_count": null,
   "metadata": {},
   "outputs": [],
   "source": []
  },
  {
   "cell_type": "code",
   "execution_count": null,
   "metadata": {},
   "outputs": [],
   "source": []
  },
  {
   "cell_type": "code",
   "execution_count": null,
   "metadata": {},
   "outputs": [],
   "source": []
  },
  {
   "cell_type": "code",
   "execution_count": null,
   "metadata": {},
   "outputs": [],
   "source": []
  },
  {
   "cell_type": "code",
   "execution_count": null,
   "metadata": {},
   "outputs": [],
   "source": []
  },
  {
   "cell_type": "code",
   "execution_count": null,
   "metadata": {},
   "outputs": [],
   "source": []
  },
  {
   "cell_type": "code",
   "execution_count": null,
   "metadata": {},
   "outputs": [],
   "source": []
  },
  {
   "cell_type": "code",
   "execution_count": null,
   "metadata": {},
   "outputs": [],
   "source": []
  },
  {
   "cell_type": "code",
   "execution_count": null,
   "metadata": {},
   "outputs": [],
   "source": []
  },
  {
   "cell_type": "code",
   "execution_count": null,
   "metadata": {},
   "outputs": [],
   "source": []
  },
  {
   "cell_type": "code",
   "execution_count": null,
   "metadata": {},
   "outputs": [],
   "source": []
  },
  {
   "cell_type": "code",
   "execution_count": null,
   "metadata": {},
   "outputs": [],
   "source": []
  },
  {
   "cell_type": "code",
   "execution_count": null,
   "metadata": {},
   "outputs": [],
   "source": []
  },
  {
   "cell_type": "code",
   "execution_count": null,
   "metadata": {},
   "outputs": [],
   "source": []
  },
  {
   "cell_type": "code",
   "execution_count": null,
   "metadata": {},
   "outputs": [],
   "source": []
  },
  {
   "cell_type": "code",
   "execution_count": null,
   "metadata": {},
   "outputs": [],
   "source": []
  },
  {
   "cell_type": "code",
   "execution_count": null,
   "metadata": {},
   "outputs": [],
   "source": []
  },
  {
   "cell_type": "code",
   "execution_count": null,
   "metadata": {},
   "outputs": [],
   "source": []
  },
  {
   "cell_type": "code",
   "execution_count": null,
   "metadata": {},
   "outputs": [],
   "source": []
  },
  {
   "cell_type": "code",
   "execution_count": null,
   "metadata": {},
   "outputs": [],
   "source": []
  },
  {
   "cell_type": "code",
   "execution_count": null,
   "metadata": {},
   "outputs": [],
   "source": []
  },
  {
   "cell_type": "code",
   "execution_count": null,
   "metadata": {},
   "outputs": [],
   "source": []
  },
  {
   "cell_type": "code",
   "execution_count": null,
   "metadata": {},
   "outputs": [],
   "source": []
  },
  {
   "cell_type": "code",
   "execution_count": null,
   "metadata": {},
   "outputs": [],
   "source": []
  },
  {
   "cell_type": "code",
   "execution_count": null,
   "metadata": {},
   "outputs": [],
   "source": []
  },
  {
   "cell_type": "code",
   "execution_count": null,
   "metadata": {},
   "outputs": [],
   "source": []
  },
  {
   "cell_type": "code",
   "execution_count": null,
   "metadata": {},
   "outputs": [],
   "source": []
  },
  {
   "cell_type": "code",
   "execution_count": null,
   "metadata": {},
   "outputs": [],
   "source": []
  },
  {
   "cell_type": "code",
   "execution_count": null,
   "metadata": {},
   "outputs": [],
   "source": []
  },
  {
   "cell_type": "code",
   "execution_count": null,
   "metadata": {},
   "outputs": [],
   "source": []
  },
  {
   "cell_type": "code",
   "execution_count": null,
   "metadata": {},
   "outputs": [],
   "source": []
  },
  {
   "cell_type": "code",
   "execution_count": null,
   "metadata": {},
   "outputs": [],
   "source": []
  },
  {
   "cell_type": "code",
   "execution_count": null,
   "metadata": {},
   "outputs": [],
   "source": []
  },
  {
   "cell_type": "code",
   "execution_count": null,
   "metadata": {},
   "outputs": [],
   "source": []
  },
  {
   "cell_type": "code",
   "execution_count": null,
   "metadata": {},
   "outputs": [],
   "source": []
  },
  {
   "cell_type": "code",
   "execution_count": null,
   "metadata": {},
   "outputs": [],
   "source": []
  },
  {
   "cell_type": "code",
   "execution_count": null,
   "metadata": {},
   "outputs": [],
   "source": []
  },
  {
   "cell_type": "code",
   "execution_count": null,
   "metadata": {},
   "outputs": [],
   "source": []
  },
  {
   "cell_type": "code",
   "execution_count": null,
   "metadata": {},
   "outputs": [],
   "source": []
  },
  {
   "cell_type": "code",
   "execution_count": null,
   "metadata": {},
   "outputs": [],
   "source": []
  },
  {
   "cell_type": "code",
   "execution_count": null,
   "metadata": {},
   "outputs": [],
   "source": []
  },
  {
   "cell_type": "code",
   "execution_count": null,
   "metadata": {},
   "outputs": [],
   "source": []
  },
  {
   "cell_type": "code",
   "execution_count": null,
   "metadata": {},
   "outputs": [],
   "source": []
  },
  {
   "cell_type": "code",
   "execution_count": null,
   "metadata": {},
   "outputs": [],
   "source": []
  },
  {
   "cell_type": "code",
   "execution_count": null,
   "metadata": {},
   "outputs": [],
   "source": []
  },
  {
   "cell_type": "code",
   "execution_count": null,
   "metadata": {},
   "outputs": [],
   "source": []
  },
  {
   "cell_type": "code",
   "execution_count": null,
   "metadata": {},
   "outputs": [],
   "source": []
  },
  {
   "cell_type": "code",
   "execution_count": null,
   "metadata": {},
   "outputs": [],
   "source": []
  },
  {
   "cell_type": "code",
   "execution_count": null,
   "metadata": {},
   "outputs": [],
   "source": []
  },
  {
   "cell_type": "code",
   "execution_count": null,
   "metadata": {},
   "outputs": [],
   "source": []
  },
  {
   "cell_type": "code",
   "execution_count": null,
   "metadata": {},
   "outputs": [],
   "source": []
  },
  {
   "cell_type": "code",
   "execution_count": null,
   "metadata": {},
   "outputs": [],
   "source": []
  },
  {
   "cell_type": "code",
   "execution_count": null,
   "metadata": {},
   "outputs": [],
   "source": []
  },
  {
   "cell_type": "code",
   "execution_count": null,
   "metadata": {},
   "outputs": [],
   "source": []
  },
  {
   "cell_type": "code",
   "execution_count": null,
   "metadata": {},
   "outputs": [],
   "source": []
  },
  {
   "cell_type": "code",
   "execution_count": null,
   "metadata": {},
   "outputs": [],
   "source": []
  },
  {
   "cell_type": "code",
   "execution_count": null,
   "metadata": {},
   "outputs": [],
   "source": []
  },
  {
   "cell_type": "code",
   "execution_count": null,
   "metadata": {},
   "outputs": [],
   "source": []
  },
  {
   "cell_type": "code",
   "execution_count": null,
   "metadata": {},
   "outputs": [],
   "source": []
  },
  {
   "cell_type": "code",
   "execution_count": null,
   "metadata": {},
   "outputs": [],
   "source": []
  },
  {
   "cell_type": "code",
   "execution_count": null,
   "metadata": {},
   "outputs": [],
   "source": []
  },
  {
   "cell_type": "code",
   "execution_count": null,
   "metadata": {},
   "outputs": [],
   "source": []
  },
  {
   "cell_type": "code",
   "execution_count": null,
   "metadata": {},
   "outputs": [],
   "source": []
  },
  {
   "cell_type": "code",
   "execution_count": null,
   "metadata": {},
   "outputs": [],
   "source": []
  },
  {
   "cell_type": "code",
   "execution_count": null,
   "metadata": {},
   "outputs": [],
   "source": []
  },
  {
   "cell_type": "code",
   "execution_count": null,
   "metadata": {},
   "outputs": [],
   "source": []
  },
  {
   "cell_type": "code",
   "execution_count": null,
   "metadata": {},
   "outputs": [],
   "source": []
  },
  {
   "cell_type": "code",
   "execution_count": null,
   "metadata": {},
   "outputs": [],
   "source": []
  },
  {
   "cell_type": "code",
   "execution_count": null,
   "metadata": {},
   "outputs": [],
   "source": []
  },
  {
   "cell_type": "code",
   "execution_count": null,
   "metadata": {},
   "outputs": [],
   "source": []
  },
  {
   "cell_type": "code",
   "execution_count": null,
   "metadata": {},
   "outputs": [],
   "source": []
  },
  {
   "cell_type": "code",
   "execution_count": null,
   "metadata": {},
   "outputs": [],
   "source": []
  },
  {
   "cell_type": "code",
   "execution_count": null,
   "metadata": {},
   "outputs": [],
   "source": []
  },
  {
   "cell_type": "code",
   "execution_count": null,
   "metadata": {},
   "outputs": [],
   "source": []
  },
  {
   "cell_type": "code",
   "execution_count": null,
   "metadata": {},
   "outputs": [],
   "source": []
  },
  {
   "cell_type": "code",
   "execution_count": null,
   "metadata": {},
   "outputs": [],
   "source": []
  },
  {
   "cell_type": "code",
   "execution_count": null,
   "metadata": {},
   "outputs": [],
   "source": []
  },
  {
   "cell_type": "code",
   "execution_count": null,
   "metadata": {},
   "outputs": [],
   "source": []
  },
  {
   "cell_type": "code",
   "execution_count": null,
   "metadata": {},
   "outputs": [],
   "source": []
  },
  {
   "cell_type": "code",
   "execution_count": null,
   "metadata": {},
   "outputs": [],
   "source": []
  },
  {
   "cell_type": "code",
   "execution_count": null,
   "metadata": {},
   "outputs": [],
   "source": []
  },
  {
   "cell_type": "code",
   "execution_count": null,
   "metadata": {},
   "outputs": [],
   "source": []
  },
  {
   "cell_type": "code",
   "execution_count": null,
   "metadata": {},
   "outputs": [],
   "source": []
  },
  {
   "cell_type": "code",
   "execution_count": null,
   "metadata": {},
   "outputs": [],
   "source": []
  },
  {
   "cell_type": "code",
   "execution_count": null,
   "metadata": {},
   "outputs": [],
   "source": []
  },
  {
   "cell_type": "code",
   "execution_count": null,
   "metadata": {},
   "outputs": [],
   "source": []
  },
  {
   "cell_type": "code",
   "execution_count": null,
   "metadata": {},
   "outputs": [],
   "source": []
  },
  {
   "cell_type": "code",
   "execution_count": null,
   "metadata": {},
   "outputs": [],
   "source": []
  },
  {
   "cell_type": "code",
   "execution_count": null,
   "metadata": {},
   "outputs": [],
   "source": []
  },
  {
   "cell_type": "code",
   "execution_count": null,
   "metadata": {},
   "outputs": [],
   "source": []
  }
 ],
 "metadata": {
  "kernelspec": {
   "display_name": "Python 3",
   "language": "python",
   "name": "python3"
  },
  "language_info": {
   "codemirror_mode": {
    "name": "ipython",
    "version": 3
   },
   "file_extension": ".py",
   "mimetype": "text/x-python",
   "name": "python",
   "nbconvert_exporter": "python",
   "pygments_lexer": "ipython3",
   "version": "3.12.0"
  }
 },
 "nbformat": 4,
 "nbformat_minor": 2
}
