{
 "cells": [
  {
   "cell_type": "code",
   "execution_count": null,
   "metadata": {},
   "outputs": [],
   "source": [
    "# Converts amount format as Indian Rupees\n",
    "def currency(amount_in_scientific_notation):\n",
    "    # Convert scientific notation to a regular number\n",
    "    amount_in_rupees = float(\"{:.2f}\".format(amount_in_scientific_notation))\n",
    "    formatted_amount = f\"{amount_in_rupees:,.2f}\"# Format as Indian Rupees ₹\n",
    "    return formatted_amount"
   ]
  },
  {
   "cell_type": "code",
   "execution_count": 37,
   "metadata": {},
   "outputs": [],
   "source": [
    "import os  # To access the system files\n",
    "import json  # To read JSON format file\n",
    "import pandas as pd  # To create a data frames\n",
    "import mysql.connector\n",
    "\n",
    "# Perform data cleaning operations on the \"States\" column\n",
    "def clean_states_column(states_series):\n",
    "    \n",
    "    states_series = states_series.str.replace(\"andaman-&-nicobar-islands\", \"Andaman & Nicobar\")\n",
    "    states_series = states_series.str.replace(\"-\", \" \")\n",
    "    states_series = states_series.str.title()\n",
    "    states_series = states_series.str.replace(\"Dadra & Nagar Haveli & Daman & Diu\", \"Dadra and Nagar Haveli and Daman and Diu\")\n",
    "    \n",
    "    return states_series\n",
    "\n",
    "\n",
    "# Transactions Data Extraction.\n",
    "Txn_columns = {\"States\": [],\"Years\": [],\"Quarter\": [],\"Transaction_type\": [],\"Transaction_count\": [],\"Transaction_amount\": []}\n",
    "Txn_stt_fldr = r\"C:\\Users\\Hp\\Documents\\project\\Projects\\Phonepe project\\pulse\\data\\aggregated\\transaction\\country\\india\\state/\"\n",
    "Txn_path = Txn_stt_fldr.replace(\"\\\\\", \"/\")  # Replace the module/slash.\n",
    "list_Txn = os.listdir(Txn_path)  # Gets the states names inside the given path.\n",
    "\n",
    "\n",
    "# This loop is to get the data inside the \"states\" folders.\n",
    "for states in list_Txn:\n",
    "    path_states = Txn_path + states + \"/\"  # merging each \"states\"name with path.\n",
    "    list_state_years = os.listdir(path_states)  # Gets the datas inside the given path.\n",
    "\n",
    "    for years in list_state_years:\n",
    "        path_years = path_states + years + \"/\"  # merging each \"years\" with path.\n",
    "        list_years_files = os.listdir(path_years)  # Gets the datas inside the given path.\n",
    "\n",
    "\n",
    "        for files in list_years_files:\n",
    "            path_files = path_years + files  # merging each files name with path.\n",
    "            Txn_acc_files = json.load(open(path_files, \"r\"))  # opening files.\n",
    "\n",
    "\n",
    "            for catch in Txn_acc_files[\"data\"][\"transactionData\"]:\n",
    "                Txn_type = catch[\"name\"]  # To get transaction type.\n",
    "                Txn_count = catch[\"paymentInstruments\"][0][\"count\"]  # To get the total transaction counts.\n",
    "                Txn_amount = catch[\"paymentInstruments\"][0][\"amount\"]  # To get the total transaction amounts.\n",
    "\n",
    "                # Appending all the datas to the Txn_columns.\n",
    "                Txn_columns[\"States\"].append(states)\n",
    "                Txn_columns[\"Years\"].append(years)\n",
    "                Txn_columns[\"Quarter\"].append(int(files.strip(\".json\")))\n",
    "                Txn_columns[\"Transaction_type\"].append(Txn_type)\n",
    "                Txn_columns[\"Transaction_count\"].append(Txn_count)\n",
    "                Txn_columns[\"Transaction_amount\"].append(Txn_amount)\n",
    "                \n",
    "Txn_table = pd.DataFrame(Txn_columns)\n",
    "Txn_table[\"States\"] = clean_states_column(Txn_table[\"States\"])\n",
    "\n",
    "# Users Data Extraction.\n",
    "Users_columns = {\"States\":[], \"Years\":[], \"Quarter\":[], \"Brands\":[],\"Transaction_count\":[], \"Percentage\":[]}\n",
    "Users_folder=r\"C:\\Users\\Hp\\Documents\\project\\Projects\\Phonepe project\\pulse\\data\\aggregated\\user\\country\\india\\state/\"\n",
    "Users_path = Users_folder.replace(\"\\\\\", \"/\")  # Replace the module/slash.\n",
    "list_Users = os.listdir(Users_path)  # Gets the states names inside the given path.\n",
    "\n",
    "for states in list_Users:\n",
    "    path_states = Users_path + states + \"/\"  # merging each \"states\"name with path.\n",
    "    list_state_years = os.listdir(path_states)  # Gets the datas inside the given path.\n",
    "\n",
    "    for years in list_state_years:\n",
    "        path_years = path_states + years + \"/\"  # merging each \"years\" with path.\n",
    "        list_years_files = os.listdir(path_years)  # Gets the datas inside the given path.\n",
    "\n",
    "        for files in list_years_files:\n",
    "            path_files = path_years + files  # merging each files name with path.\n",
    "            Users_acc_files = json.load(open(path_files, \"r\"))  # opening files.\n",
    "            try:\n",
    "                for catch in Users_acc_files[\"data\"][\"usersByDevice\"]:        \n",
    "                    user_brand = catch[\"brand\"]#To get the brand name\n",
    "                    user_count = catch[\"count\"]#To get the count of users\n",
    "                    User_percentage = catch[\"percentage\"]#To get the percentage of users\n",
    "\n",
    "                    # Appending all the datas to the Users_columns.\n",
    "                    Users_columns[\"States\"].append(states)\n",
    "                    Users_columns[\"Years\"].append(years)\n",
    "                    Users_columns[\"Quarter\"].append(int(files.strip(\".json\")))\n",
    "                    Users_columns[\"Brands\"].append(user_brand)\n",
    "                    Users_columns[\"Transaction_count\"].append(user_count)\n",
    "                    Users_columns[\"Percentage\"].append(User_percentage)\n",
    "            except:\n",
    "                pass\n",
    "\n",
    "Users_table=pd.DataFrame(Users_columns)\n",
    "Users_table[\"States\"] = clean_states_column(Users_table[\"States\"])\n",
    "\n",
    "# Map transaction Data Extraction.\n",
    "Map_txn_columns = {\"States\":[], \"Years\":[], \"Quarter\":[],\"District\":[], \"Transaction_count\":[],\"Transaction_amount\":[]}\n",
    "Map_txn_folder=r\"C:\\Users\\Hp\\Documents\\project\\Projects\\Phonepe project\\pulse\\data\\map\\transaction\\hover\\country\\india\\state/\"\n",
    "Map_txn_path = Map_txn_folder.replace(\"\\\\\", \"/\")  # Replace the module/slash.\n",
    "list_map_txn = os.listdir(Map_txn_path)  # Gets the states names inside the given path.\n",
    "\n",
    "for states in list_map_txn:\n",
    "    path_states = Map_txn_path + states + \"/\"  # merging each \"states\"name with path.\n",
    "    list_state_years = os.listdir(path_states)  # Gets the datas inside the given path.\n",
    "\n",
    "    for years in list_state_years:\n",
    "        path_years = path_states + years + \"/\"  # merging each \"years\" with path.\n",
    "        list_years_files = os.listdir(path_years)  # Gets the datas inside the given path.\n",
    "\n",
    "        for files in list_years_files:\n",
    "            path_files = path_years + files  # merging each files name with path.\n",
    "            Map_Txn_acc_files = json.load(open(path_files, \"r\"))  # opening files.\n",
    "\n",
    "            for catch in Map_Txn_acc_files['data'][\"hoverDataList\"]:\n",
    "                Map_txn_name = catch[\"name\"]\n",
    "                Map_txn_count = catch[\"metric\"][0][\"count\"]\n",
    "                Map_txn_amount = catch[\"metric\"][0][\"amount\"]\n",
    "\n",
    "                # Appending all the datas to the Map_txn_columns.\n",
    "                Map_txn_columns[\"States\"].append(states)\n",
    "                Map_txn_columns[\"Years\"].append(years)\n",
    "                Map_txn_columns[\"Quarter\"].append(int(files.strip(\".json\")))\n",
    "                Map_txn_columns[\"District\"].append(Map_txn_name)\n",
    "                Map_txn_columns[\"Transaction_count\"].append(Map_txn_count)\n",
    "                Map_txn_columns[\"Transaction_amount\"].append(Map_txn_amount)\n",
    "\n",
    "Map_Txn_table=pd.DataFrame(Map_txn_columns)\n",
    "Map_Txn_table[\"States\"] = clean_states_column(Map_Txn_table[\"States\"])\n",
    "\n",
    "\n",
    "# Map User Data Extraction.\n",
    "Map_Users_columns = {\"States\":[], \"Years\":[], \"Quarter\":[], \"Districts\":[], \"RegisteredUser\":[], \"AppOpens\":[]}\n",
    "Map_Users_folder=r\"C:\\Users\\Hp\\Documents\\project\\Projects\\Phonepe project\\pulse\\data\\map\\user\\hover\\country\\india\\state/\"\n",
    "Map_users_path = Map_Users_folder.replace(\"\\\\\", \"/\")  # Replace the module/slash.\n",
    "list_Map_Users = os.listdir(Map_users_path)  # Gets the states names inside the given path.\n",
    "\n",
    "for states in list_Map_Users:\n",
    "    path_states = Map_users_path + states + \"/\"  # merging each \"states\"name with path.\n",
    "    list_state_years = os.listdir(path_states)  # Gets the datas inside the given path.\n",
    "\n",
    "    for years in list_state_years:\n",
    "        path_years = path_states + years + \"/\"  # merging each \"years\" with path.\n",
    "        list_years_files = os.listdir(path_years)  # Gets the datas inside the given path.\n",
    "\n",
    "        for files in list_years_files:\n",
    "            path_files = path_years + files  # merging each files name with path.\n",
    "            Map_Users_acc_files = json.load(open(path_files, \"r\"))  # opening files.\n",
    "\n",
    "            for catch in Map_Users_acc_files[\"data\"][\"hoverData\"].items():\n",
    "                Map_Users_district = catch[0]\n",
    "                Map_Users_registereduser = catch[1][\"registeredUsers\"]\n",
    "                Map_Users_appopens = catch[1][\"appOpens\"]\n",
    "\n",
    "                # Appending all the datas to the Map_Users_columns.\n",
    "                Map_Users_columns[\"States\"].append(states)\n",
    "                Map_Users_columns[\"Years\"].append(years)\n",
    "                Map_Users_columns[\"Quarter\"].append(int(files.strip(\".json\")))\n",
    "                Map_Users_columns[\"Districts\"].append(Map_Users_district)\n",
    "                Map_Users_columns[\"RegisteredUser\"].append(Map_Users_registereduser)\n",
    "                Map_Users_columns[\"AppOpens\"].append(Map_Users_appopens)\n",
    "                \n",
    "\n",
    "Map_Users_table = pd.DataFrame(Map_Users_columns)\n",
    "Map_Users_table[\"States\"] = clean_states_column(Map_Users_table[\"States\"])\n",
    "\n",
    "#top transaction Data extractions\n",
    "Top_txn_columns = {\"States\":[], \"Years\":[], \"Quarter\":[], \"Pincodes\":[], \"Transaction_count\":[], \"Transaction_amount\":[]}\n",
    "Top_txn_folder=r\"C:\\Users\\Hp\\Documents\\project\\Projects\\Phonepe project\\pulse\\data\\top\\transaction\\country\\india\\state/\"\n",
    "Top_txn_path = Top_txn_folder.replace(\"\\\\\", \"/\")  # Replace the module/slash.\n",
    "list_Top_txn = os.listdir(Top_txn_path)  # Gets the states names inside the given path.\n",
    "\n",
    "for states in list_Top_txn:\n",
    "    path_states = Top_txn_path + states + \"/\"  # merging each \"states\"name with path.\n",
    "    list_state_years = os.listdir(path_states)  # Gets the datas inside the given path.\n",
    "\n",
    "    for years in list_state_years:\n",
    "        path_years = path_states + years + \"/\"  # merging each \"years\" with path.\n",
    "        list_years_files = os.listdir(path_years)  # Gets the datas inside the given path.\n",
    "\n",
    "        for files in list_years_files:\n",
    "            path_files = path_years + files  # merging each files name with path.\n",
    "            Top_txn_acc_files = json.load(open(path_files, \"r\"))  # opening files.\n",
    "\n",
    "            for catch in Top_txn_acc_files['data']['pincodes']:\n",
    "                Top_txn_entityName = catch[\"entityName\"]\n",
    "                Top_txn_count = catch[\"metric\"][\"count\"]\n",
    "                Top_txn_amount = catch[\"metric\"][\"amount\"]\n",
    "\n",
    "                # Appending all the datas to the Top_txn_columns.\n",
    "                Top_txn_columns[\"States\"].append(states)\n",
    "                Top_txn_columns[\"Years\"].append(years)\n",
    "                Top_txn_columns[\"Quarter\"].append(int(files.strip(\".json\")))\n",
    "                Top_txn_columns[\"Pincodes\"].append(Top_txn_entityName)\n",
    "                Top_txn_columns[\"Transaction_count\"].append(Top_txn_count)\n",
    "                Top_txn_columns[\"Transaction_amount\"].append(Top_txn_amount)\n",
    "                \n",
    "Top_txn_table = pd.DataFrame(Top_txn_columns)\n",
    "Top_txn_table[\"States\"] = clean_states_column(Top_txn_table[\"States\"])\n",
    "\n",
    "#top users Data extractions\n",
    "Top_users_columns = {\"States\":[], \"Years\":[], \"Quarter\":[], \"Pincodes\":[], \"RegisteredUser\":[]}\n",
    "Top_users__folder=r\"C:\\Users\\Hp\\Documents\\project\\Projects\\Phonepe project\\pulse\\data\\top\\user\\country\\india\\state/\"\n",
    "Top_users__path = Top_users__folder.replace(\"\\\\\", \"/\")  # Replace the module/slash.\n",
    "list_Top_users = os.listdir(Top_users__path)  # Gets the states names inside the given path.\n",
    "\n",
    "for states in list_Top_users:\n",
    "    path_states = Top_users__path + states + \"/\"  # merging each \"states\"name with path.\n",
    "    list_state_years = os.listdir(path_states)  # Gets the datas inside the given path.\n",
    "\n",
    "    for years in list_state_years:\n",
    "        path_years = path_states + years + \"/\"  # merging each \"years\" with path.\n",
    "        list_years_files = os.listdir(path_years)  # Gets the datas inside the given path.\n",
    "\n",
    "        for files in list_years_files:\n",
    "            path_files = path_years + files  # merging each files name with path.\n",
    "            Top_users_acc_files = json.load(open(path_files, \"r\"))  # opening files.\n",
    "\n",
    "\n",
    "            for catch in Top_users_acc_files[\"data\"][\"pincodes\"]:\n",
    "                Top_users_name = catch[\"name\"]\n",
    "                Top_users_registeredusers = catch[\"registeredUsers\"]\n",
    "\n",
    "                Top_users_columns[\"States\"].append(states)\n",
    "                Top_users_columns[\"Years\"].append(years)\n",
    "                Top_users_columns[\"Quarter\"].append(int(files.strip(\".json\")))\n",
    "                Top_users_columns[\"Pincodes\"].append(Top_users_name)\n",
    "                Top_users_columns[\"RegisteredUser\"].append(Top_users_registeredusers)\n",
    "                \n",
    "\n",
    "Top_users_table=pd.DataFrame(Top_users_columns)\n",
    "Top_users_table[\"States\"] = clean_states_column(Top_users_table[\"States\"])\n",
    "\n",
    "\n",
    "#SQL-Table Creation\n",
    "mydb = mysql.connector.connect(host=\"localhost\",\n",
    "                               user=\"root\",\n",
    "                               password=\"\",\n",
    "                               #database='joins'\n",
    "                               )\n",
    "mycursor = mydb.cursor(buffered=True)\n",
    "\n",
    "\n",
    "\n",
    "\n",
    "#Aggregated Transaction table\n",
    "mycursor.execute(\"drop table if exists Phonepe_Datas.Agg_Transaction_table\")\n",
    "\n",
    "Sql_Agg_Txn_table = '''CREATE TABLE Phonepe_Datas.Agg_Transaction_table (States varchar(50),\n",
    "                                                                                Years int,\n",
    "                                                                                Quarter int,\n",
    "                                                                                Transaction_type varchar(50),\n",
    "                                                                                Transaction_count bigint,\n",
    "                                                                                Transaction_amount bigint)'''\n",
    "mycursor.execute(Sql_Agg_Txn_table)\n",
    "mydb.commit()\n",
    "\n",
    "for index,row in Txn_table.iterrows():\n",
    "    insert_Agg_Txn_table = '''INSERT INTO Phonepe_Datas.Agg_Transaction_table (States,\n",
    "                                                                            Years,\n",
    "                                                                            Quarter, \n",
    "                                                                            Transaction_type, \n",
    "                                                                            Transaction_count, \n",
    "                                                                            Transaction_amount)values(%s,%s,%s,%s,%s,%s)'''\n",
    "    values = (row[\"States\"],\n",
    "              row[\"Years\"],\n",
    "              row[\"Quarter\"],\n",
    "              row[\"Transaction_type\"],\n",
    "              row[\"Transaction_count\"],\n",
    "              row[\"Transaction_amount\"])\n",
    "    mycursor.execute(insert_Agg_Txn_table,values)\n",
    "    mydb.commit()\n",
    "\n",
    "#Aggregated users table\n",
    "mycursor.execute(\"drop table if exists Phonepe_Datas.AGG_Users_table\")\n",
    "\n",
    "Sql_Agg_Users_table = '''CREATE TABLE Phonepe_Datas.AGG_Users_table (States varchar(50),\n",
    "                                                                                    Years int,\n",
    "                                                                                    Quarter int,\n",
    "                                                                                    Brands varchar(50),\n",
    "                                                                                    Transaction_count bigint,\n",
    "                                                                                    Percentage float)'''\n",
    "mycursor.execute(Sql_Agg_Users_table)\n",
    "mydb.commit()\n",
    "\n",
    "for index,row in Users_table.iterrows():\n",
    "    insert_Agg_Users_table = '''INSERT INTO Phonepe_Datas.AGG_Users_table (States,\n",
    "                                                                            Years,\n",
    "                                                                            Quarter,\n",
    "                                                                            Brands,\n",
    "                                                                            Transaction_count,\n",
    "                                                                            Percentage)values(%s,%s,%s,%s,%s,%s)'''\n",
    "    values = (row[\"States\"],\n",
    "              row[\"Years\"],\n",
    "              row[\"Quarter\"],\n",
    "              row[\"Brands\"],\n",
    "              row[\"Transaction_count\"],\n",
    "              row[\"Percentage\"])\n",
    "    mycursor.execute(insert_Agg_Users_table,values)\n",
    "    mydb.commit()\n",
    "\n",
    "#map_transaction_table\n",
    "mycursor.execute(\"drop table if exists Phonepe_Datas.Map_Txn_table\")\n",
    "\n",
    "Sql_Map_Txn_table = '''CREATE TABLE Phonepe_Datas.Map_Transaction_table (States varchar(50),\n",
    "                                                                                Years int,\n",
    "                                                                                Quarter int,\n",
    "                                                                                District varchar(50),\n",
    "                                                                                Transaction_count bigint,\n",
    "                                                                                Transaction_amount bigint)'''\n",
    "mycursor.execute(Sql_Map_Txn_table)\n",
    "mydb.commit()\n",
    "\n",
    "for index,row in Map_Txn_table.iterrows():\n",
    "    insert_Map_Txn_table = '''INSERT INTO Phonepe_Datas.Map_Transaction_table (States, \n",
    "                                                                        Years, \n",
    "                                                                        Quarter, \n",
    "                                                                        District, \n",
    "                                                                        Transaction_count, \n",
    "                                                                        Transaction_amount)values(%s, %s, %s, %s, %s, %s)'''\n",
    "    values = (row['States'],\n",
    "            row['Years'],\n",
    "            row['Quarter'],\n",
    "            row['District'],\n",
    "            row['Transaction_count'],\n",
    "            row['Transaction_amount'])\n",
    "    mycursor.execute(insert_Map_Txn_table,values)\n",
    "    mydb.commit() \n",
    "\n",
    "#map_user_table\n",
    "mycursor.execute(\"drop table if exists Phonepe_Datas.Map_Users_table\")\n",
    "\n",
    "Sql_Map_Users_table = '''CREATE TABLE  Phonepe_Datas.Map_Users_table (States varchar(50),\n",
    "                                                        Years int,\n",
    "                                                        Quarter int,\n",
    "                                                        Districts varchar(50),\n",
    "                                                        RegisteredUser bigint,\n",
    "                                                        AppOpens bigint)'''\n",
    "mycursor.execute(Sql_Map_Users_table)\n",
    "mydb.commit()\n",
    "\n",
    "for index,row in Map_Users_table.iterrows():\n",
    "    insert_Map_Users_table = '''INSERT INTO Phonepe_Datas.Map_Users_table (States, \n",
    "                                                                            Years, \n",
    "                                                                            Quarter, \n",
    "                                                                            Districts, \n",
    "                                                                            RegisteredUser, \n",
    "                                                                            AppOpens)values(%s,%s,%s,%s,%s,%s)'''\n",
    "    values = (row[\"States\"],\n",
    "              row[\"Years\"],\n",
    "              row[\"Quarter\"],\n",
    "              row[\"Districts\"],\n",
    "              row[\"RegisteredUser\"],\n",
    "              row[\"AppOpens\"])\n",
    "    mycursor.execute(insert_Map_Users_table,values)\n",
    "    mydb.commit() \n",
    "\n",
    "#top transactions table\n",
    "mycursor.execute(\"drop table if exists Phonepe_Datas.top_transactions_table\")\n",
    "\n",
    "Sql_Top_txn_table = '''CREATE TABLE  Phonepe_Datas.top_transactions_table (States varchar(50),\n",
    "                                                                Years int,\n",
    "                                                                Quarter int,\n",
    "                                                                pincodes int,\n",
    "                                                                Transaction_count bigint,\n",
    "                                                                Transaction_amount bigint)'''\n",
    "mycursor.execute(Sql_Top_txn_table)\n",
    "mydb.commit()\n",
    "\n",
    "\n",
    "for index,row in Top_txn_table.iterrows():\n",
    "    insert_Top_txn_table = '''INSERT INTO Phonepe_Datas.top_transactions_table (States, Years, Quarter, Pincodes, Transaction_count, Transaction_amount)\n",
    "                                                    values(%s,%s,%s,%s,%s,%s)'''\n",
    "    values = (row[\"States\"],\n",
    "              row[\"Years\"],\n",
    "              row[\"Quarter\"],\n",
    "              row[\"Pincodes\"],\n",
    "              row[\"Transaction_count\"],\n",
    "              row[\"Transaction_amount\"])\n",
    "    mycursor.execute(insert_Top_txn_table,values)\n",
    "    mydb.commit()\n",
    "\n",
    "#top users table\n",
    "mycursor.execute(\"drop table if exists Phonepe_Datas.top_users_table\")\n",
    "\n",
    "Sql_top_users_table = '''CREATE TABLE  Phonepe_Datas.top_users_table (States varchar(50),\n",
    "                                                                    Years int,\n",
    "                                                                    Quarter int,\n",
    "                                                                    Pincodes int,\n",
    "                                                                    RegisteredUser bigint)'''\n",
    "mycursor.execute(Sql_top_users_table)\n",
    "mydb.commit()\n",
    "\n",
    "for index,row in Top_users_table.iterrows():\n",
    "    insert_Top_Users_table = '''INSERT INTO Phonepe_Datas.top_users_table (States, \n",
    "                                                                  Years, \n",
    "                                                                  Quarter, \n",
    "                                                                  Pincodes, \n",
    "                                                                  RegisteredUser)values(%s,%s,%s,%s,%s)'''\n",
    "    values = (row[\"States\"],\n",
    "              row[\"Years\"],\n",
    "              row[\"Quarter\"],\n",
    "              row[\"Pincodes\"],\n",
    "              row[\"RegisteredUser\"])\n",
    "    mycursor.execute(insert_Top_Users_table,values)\n",
    "    mydb.commit()\n",
    "    "
   ]
  },
  {
   "cell_type": "code",
   "execution_count": null,
   "metadata": {},
   "outputs": [],
   "source": []
  },
  {
   "cell_type": "code",
   "execution_count": null,
   "metadata": {},
   "outputs": [],
   "source": []
  },
  {
   "cell_type": "code",
   "execution_count": null,
   "metadata": {},
   "outputs": [],
   "source": []
  },
  {
   "cell_type": "code",
   "execution_count": null,
   "metadata": {},
   "outputs": [],
   "source": []
  },
  {
   "cell_type": "code",
   "execution_count": null,
   "metadata": {},
   "outputs": [],
   "source": []
  },
  {
   "cell_type": "code",
   "execution_count": null,
   "metadata": {},
   "outputs": [],
   "source": []
  },
  {
   "cell_type": "code",
   "execution_count": null,
   "metadata": {},
   "outputs": [],
   "source": []
  },
  {
   "cell_type": "code",
   "execution_count": null,
   "metadata": {},
   "outputs": [],
   "source": []
  },
  {
   "cell_type": "code",
   "execution_count": null,
   "metadata": {},
   "outputs": [],
   "source": []
  },
  {
   "cell_type": "code",
   "execution_count": null,
   "metadata": {},
   "outputs": [],
   "source": []
  },
  {
   "cell_type": "code",
   "execution_count": null,
   "metadata": {},
   "outputs": [],
   "source": []
  },
  {
   "cell_type": "code",
   "execution_count": null,
   "metadata": {},
   "outputs": [],
   "source": []
  },
  {
   "cell_type": "code",
   "execution_count": null,
   "metadata": {},
   "outputs": [],
   "source": []
  },
  {
   "cell_type": "code",
   "execution_count": null,
   "metadata": {},
   "outputs": [],
   "source": []
  },
  {
   "cell_type": "code",
   "execution_count": null,
   "metadata": {},
   "outputs": [],
   "source": []
  },
  {
   "cell_type": "code",
   "execution_count": null,
   "metadata": {},
   "outputs": [],
   "source": []
  },
  {
   "cell_type": "code",
   "execution_count": null,
   "metadata": {},
   "outputs": [],
   "source": []
  },
  {
   "cell_type": "code",
   "execution_count": null,
   "metadata": {},
   "outputs": [],
   "source": []
  },
  {
   "cell_type": "code",
   "execution_count": null,
   "metadata": {},
   "outputs": [],
   "source": []
  },
  {
   "cell_type": "code",
   "execution_count": null,
   "metadata": {},
   "outputs": [],
   "source": []
  },
  {
   "cell_type": "code",
   "execution_count": null,
   "metadata": {},
   "outputs": [],
   "source": []
  },
  {
   "cell_type": "code",
   "execution_count": null,
   "metadata": {},
   "outputs": [],
   "source": []
  },
  {
   "cell_type": "code",
   "execution_count": null,
   "metadata": {},
   "outputs": [],
   "source": []
  },
  {
   "cell_type": "code",
   "execution_count": null,
   "metadata": {},
   "outputs": [],
   "source": []
  },
  {
   "cell_type": "code",
   "execution_count": null,
   "metadata": {},
   "outputs": [],
   "source": []
  },
  {
   "cell_type": "code",
   "execution_count": null,
   "metadata": {},
   "outputs": [],
   "source": []
  },
  {
   "cell_type": "code",
   "execution_count": null,
   "metadata": {},
   "outputs": [],
   "source": []
  },
  {
   "cell_type": "code",
   "execution_count": null,
   "metadata": {},
   "outputs": [],
   "source": []
  },
  {
   "cell_type": "code",
   "execution_count": null,
   "metadata": {},
   "outputs": [],
   "source": []
  },
  {
   "cell_type": "code",
   "execution_count": null,
   "metadata": {},
   "outputs": [],
   "source": []
  },
  {
   "cell_type": "code",
   "execution_count": null,
   "metadata": {},
   "outputs": [],
   "source": []
  },
  {
   "cell_type": "code",
   "execution_count": null,
   "metadata": {},
   "outputs": [],
   "source": []
  },
  {
   "cell_type": "code",
   "execution_count": null,
   "metadata": {},
   "outputs": [],
   "source": []
  },
  {
   "cell_type": "code",
   "execution_count": null,
   "metadata": {},
   "outputs": [],
   "source": []
  },
  {
   "cell_type": "code",
   "execution_count": null,
   "metadata": {},
   "outputs": [],
   "source": []
  },
  {
   "cell_type": "code",
   "execution_count": null,
   "metadata": {},
   "outputs": [],
   "source": []
  },
  {
   "cell_type": "code",
   "execution_count": null,
   "metadata": {},
   "outputs": [],
   "source": []
  },
  {
   "cell_type": "code",
   "execution_count": null,
   "metadata": {},
   "outputs": [],
   "source": []
  },
  {
   "cell_type": "code",
   "execution_count": null,
   "metadata": {},
   "outputs": [],
   "source": []
  },
  {
   "cell_type": "code",
   "execution_count": null,
   "metadata": {},
   "outputs": [],
   "source": []
  },
  {
   "cell_type": "code",
   "execution_count": null,
   "metadata": {},
   "outputs": [],
   "source": []
  },
  {
   "cell_type": "code",
   "execution_count": null,
   "metadata": {},
   "outputs": [],
   "source": []
  },
  {
   "cell_type": "code",
   "execution_count": null,
   "metadata": {},
   "outputs": [],
   "source": []
  },
  {
   "cell_type": "code",
   "execution_count": null,
   "metadata": {},
   "outputs": [],
   "source": []
  },
  {
   "cell_type": "code",
   "execution_count": null,
   "metadata": {},
   "outputs": [],
   "source": []
  },
  {
   "cell_type": "code",
   "execution_count": null,
   "metadata": {},
   "outputs": [],
   "source": []
  },
  {
   "cell_type": "code",
   "execution_count": null,
   "metadata": {},
   "outputs": [],
   "source": []
  },
  {
   "cell_type": "code",
   "execution_count": null,
   "metadata": {},
   "outputs": [],
   "source": []
  },
  {
   "cell_type": "code",
   "execution_count": null,
   "metadata": {},
   "outputs": [],
   "source": []
  },
  {
   "cell_type": "code",
   "execution_count": null,
   "metadata": {},
   "outputs": [],
   "source": []
  },
  {
   "cell_type": "code",
   "execution_count": null,
   "metadata": {},
   "outputs": [],
   "source": []
  },
  {
   "cell_type": "code",
   "execution_count": null,
   "metadata": {},
   "outputs": [],
   "source": []
  },
  {
   "cell_type": "code",
   "execution_count": null,
   "metadata": {},
   "outputs": [],
   "source": []
  },
  {
   "cell_type": "code",
   "execution_count": null,
   "metadata": {},
   "outputs": [],
   "source": []
  },
  {
   "cell_type": "code",
   "execution_count": null,
   "metadata": {},
   "outputs": [],
   "source": []
  },
  {
   "cell_type": "code",
   "execution_count": null,
   "metadata": {},
   "outputs": [],
   "source": []
  },
  {
   "cell_type": "code",
   "execution_count": null,
   "metadata": {},
   "outputs": [],
   "source": []
  },
  {
   "cell_type": "code",
   "execution_count": null,
   "metadata": {},
   "outputs": [],
   "source": []
  },
  {
   "cell_type": "code",
   "execution_count": null,
   "metadata": {},
   "outputs": [],
   "source": []
  },
  {
   "cell_type": "code",
   "execution_count": null,
   "metadata": {},
   "outputs": [],
   "source": []
  },
  {
   "cell_type": "code",
   "execution_count": null,
   "metadata": {},
   "outputs": [],
   "source": []
  },
  {
   "cell_type": "code",
   "execution_count": null,
   "metadata": {},
   "outputs": [],
   "source": []
  },
  {
   "cell_type": "code",
   "execution_count": null,
   "metadata": {},
   "outputs": [],
   "source": []
  },
  {
   "cell_type": "code",
   "execution_count": null,
   "metadata": {},
   "outputs": [],
   "source": []
  },
  {
   "cell_type": "code",
   "execution_count": null,
   "metadata": {},
   "outputs": [],
   "source": []
  },
  {
   "cell_type": "code",
   "execution_count": null,
   "metadata": {},
   "outputs": [],
   "source": []
  },
  {
   "cell_type": "code",
   "execution_count": null,
   "metadata": {},
   "outputs": [],
   "source": []
  },
  {
   "cell_type": "code",
   "execution_count": null,
   "metadata": {},
   "outputs": [],
   "source": []
  },
  {
   "cell_type": "code",
   "execution_count": null,
   "metadata": {},
   "outputs": [],
   "source": []
  },
  {
   "cell_type": "code",
   "execution_count": null,
   "metadata": {},
   "outputs": [],
   "source": []
  },
  {
   "cell_type": "code",
   "execution_count": null,
   "metadata": {},
   "outputs": [],
   "source": []
  },
  {
   "cell_type": "code",
   "execution_count": null,
   "metadata": {},
   "outputs": [],
   "source": []
  },
  {
   "cell_type": "code",
   "execution_count": null,
   "metadata": {},
   "outputs": [],
   "source": []
  },
  {
   "cell_type": "code",
   "execution_count": null,
   "metadata": {},
   "outputs": [],
   "source": []
  },
  {
   "cell_type": "code",
   "execution_count": null,
   "metadata": {},
   "outputs": [],
   "source": []
  },
  {
   "cell_type": "code",
   "execution_count": null,
   "metadata": {},
   "outputs": [],
   "source": []
  },
  {
   "cell_type": "code",
   "execution_count": null,
   "metadata": {},
   "outputs": [],
   "source": []
  },
  {
   "cell_type": "code",
   "execution_count": null,
   "metadata": {},
   "outputs": [],
   "source": []
  },
  {
   "cell_type": "code",
   "execution_count": null,
   "metadata": {},
   "outputs": [],
   "source": []
  },
  {
   "cell_type": "code",
   "execution_count": null,
   "metadata": {},
   "outputs": [],
   "source": []
  },
  {
   "cell_type": "code",
   "execution_count": null,
   "metadata": {},
   "outputs": [],
   "source": []
  },
  {
   "cell_type": "code",
   "execution_count": null,
   "metadata": {},
   "outputs": [],
   "source": []
  },
  {
   "cell_type": "code",
   "execution_count": null,
   "metadata": {},
   "outputs": [],
   "source": []
  },
  {
   "cell_type": "code",
   "execution_count": null,
   "metadata": {},
   "outputs": [],
   "source": []
  },
  {
   "cell_type": "code",
   "execution_count": null,
   "metadata": {},
   "outputs": [],
   "source": []
  },
  {
   "cell_type": "code",
   "execution_count": null,
   "metadata": {},
   "outputs": [],
   "source": []
  },
  {
   "cell_type": "code",
   "execution_count": null,
   "metadata": {},
   "outputs": [],
   "source": []
  },
  {
   "cell_type": "code",
   "execution_count": null,
   "metadata": {},
   "outputs": [],
   "source": []
  },
  {
   "cell_type": "code",
   "execution_count": null,
   "metadata": {},
   "outputs": [],
   "source": []
  },
  {
   "cell_type": "code",
   "execution_count": null,
   "metadata": {},
   "outputs": [],
   "source": []
  },
  {
   "cell_type": "code",
   "execution_count": null,
   "metadata": {},
   "outputs": [],
   "source": []
  },
  {
   "cell_type": "code",
   "execution_count": null,
   "metadata": {},
   "outputs": [],
   "source": []
  },
  {
   "cell_type": "code",
   "execution_count": null,
   "metadata": {},
   "outputs": [],
   "source": []
  },
  {
   "cell_type": "code",
   "execution_count": null,
   "metadata": {},
   "outputs": [],
   "source": []
  },
  {
   "cell_type": "code",
   "execution_count": null,
   "metadata": {},
   "outputs": [],
   "source": []
  },
  {
   "cell_type": "code",
   "execution_count": null,
   "metadata": {},
   "outputs": [],
   "source": []
  },
  {
   "cell_type": "code",
   "execution_count": null,
   "metadata": {},
   "outputs": [],
   "source": []
  },
  {
   "cell_type": "code",
   "execution_count": null,
   "metadata": {},
   "outputs": [],
   "source": []
  },
  {
   "cell_type": "code",
   "execution_count": null,
   "metadata": {},
   "outputs": [],
   "source": []
  },
  {
   "cell_type": "code",
   "execution_count": null,
   "metadata": {},
   "outputs": [],
   "source": []
  },
  {
   "cell_type": "code",
   "execution_count": null,
   "metadata": {},
   "outputs": [],
   "source": []
  },
  {
   "cell_type": "code",
   "execution_count": null,
   "metadata": {},
   "outputs": [],
   "source": []
  },
  {
   "cell_type": "code",
   "execution_count": null,
   "metadata": {},
   "outputs": [],
   "source": []
  },
  {
   "cell_type": "code",
   "execution_count": null,
   "metadata": {},
   "outputs": [],
   "source": []
  },
  {
   "cell_type": "code",
   "execution_count": null,
   "metadata": {},
   "outputs": [],
   "source": []
  },
  {
   "cell_type": "code",
   "execution_count": null,
   "metadata": {},
   "outputs": [],
   "source": []
  },
  {
   "cell_type": "code",
   "execution_count": null,
   "metadata": {},
   "outputs": [],
   "source": []
  },
  {
   "cell_type": "code",
   "execution_count": null,
   "metadata": {},
   "outputs": [],
   "source": []
  },
  {
   "cell_type": "code",
   "execution_count": null,
   "metadata": {},
   "outputs": [],
   "source": []
  },
  {
   "cell_type": "code",
   "execution_count": null,
   "metadata": {},
   "outputs": [],
   "source": []
  },
  {
   "cell_type": "code",
   "execution_count": null,
   "metadata": {},
   "outputs": [],
   "source": []
  },
  {
   "cell_type": "code",
   "execution_count": null,
   "metadata": {},
   "outputs": [],
   "source": []
  },
  {
   "cell_type": "code",
   "execution_count": null,
   "metadata": {},
   "outputs": [],
   "source": []
  },
  {
   "cell_type": "code",
   "execution_count": null,
   "metadata": {},
   "outputs": [],
   "source": []
  },
  {
   "cell_type": "code",
   "execution_count": null,
   "metadata": {},
   "outputs": [],
   "source": []
  },
  {
   "cell_type": "code",
   "execution_count": null,
   "metadata": {},
   "outputs": [],
   "source": []
  }
 ],
 "metadata": {
  "kernelspec": {
   "display_name": "Python 3",
   "language": "python",
   "name": "python3"
  },
  "language_info": {
   "codemirror_mode": {
    "name": "ipython",
    "version": 3
   },
   "file_extension": ".py",
   "mimetype": "text/x-python",
   "name": "python",
   "nbconvert_exporter": "python",
   "pygments_lexer": "ipython3",
   "version": "3.12.0"
  }
 },
 "nbformat": 4,
 "nbformat_minor": 2
}
